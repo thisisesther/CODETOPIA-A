{
  "nbformat": 4,
  "nbformat_minor": 0,
  "metadata": {
    "colab": {
      "name": "Copy of Assignment 2 - Data Types.ipynb",
      "provenance": [],
      "collapsed_sections": [],
      "include_colab_link": true
    },
    "kernelspec": {
      "display_name": "Python 3",
      "name": "python3"
    }
  },
  "cells": [
    {
      "cell_type": "markdown",
      "metadata": {
        "id": "view-in-github",
        "colab_type": "text"
      },
      "source": [
        "<a href=\"https://colab.research.google.com/github/thisisesther/CODETOPIA-A/blob/main/Copy_of_Assignment_2_Data_Types.ipynb\" target=\"_parent\"><img src=\"https://colab.research.google.com/assets/colab-badge.svg\" alt=\"Open In Colab\"/></a>"
      ]
    },
    {
      "cell_type": "markdown",
      "metadata": {
        "id": "jAvAN1PiB8bc"
      },
      "source": [
        "# 1. BOOLEANS"
      ]
    },
    {
      "cell_type": "markdown",
      "metadata": {
        "id": "zK3GTZaCFwNt"
      },
      "source": [
        "**MINI CHALLENGE #1:** \n",
        "- **What will this code generate?**\n",
        "```\n",
        "number_of_pens = 20\n",
        "number_of_bicycles = 30\n",
        "print((number_of_pens < number_of_bicycles))\n",
        "print(number_of_pens == number_of_bicycles)\n",
        "```"
      ]
    },
    {
      "cell_type": "code",
      "metadata": {
        "colab": {
          "base_uri": "https://localhost:8080/"
        },
        "id": "Fk7waP-xUtan",
        "outputId": "5d5738da-385a-4825-af19-6748f625830c"
      },
      "source": [
        "number_of_pens = 20\n",
        "number_of_bicycles = 30\n",
        "print((number_of_pens < number_of_bicycles))\n",
        "print(number_of_pens == number_of_bicycles)"
      ],
      "execution_count": 35,
      "outputs": [
        {
          "output_type": "stream",
          "name": "stdout",
          "text": [
            "True\n",
            "False\n"
          ]
        }
      ]
    },
    {
      "cell_type": "code",
      "metadata": {
        "id": "0-K2WOngrx8O"
      },
      "source": [
        ""
      ],
      "execution_count": null,
      "outputs": []
    },
    {
      "cell_type": "markdown",
      "metadata": {
        "id": "_5r-dUNX7nfy"
      },
      "source": [
        "# 2. LIST"
      ]
    },
    {
      "cell_type": "markdown",
      "metadata": {
        "id": "Q1qcVBl7G1GO"
      },
      "source": [
        "**MINI CHALLENGE #2:**\n",
        "- **Print the first, second and last element in the list below**\n",
        "- **Print all elements in the list, first 3 elements, and last three elements**\n",
        "\n",
        "```\n",
        "list_1 = [\"NAME\", \"AGE\", \"SEX\", \"KOFI\", \"222\", \"AMA\", \"YAW\"]\n",
        "```\n",
        "\n"
      ]
    },
    {
      "cell_type": "code",
      "metadata": {
        "colab": {
          "base_uri": "https://localhost:8080/"
        },
        "id": "JRzipHhbwf6x",
        "outputId": "c6b0d670-b8ef-4ecf-fcdc-a878be766de9"
      },
      "source": [
        "list_1 = [\"NAME\", \"AGE\", \"SEX\", \"KOFI\", \"222\", \"AMA\", \"YAW\"]\n",
        "print([list_1[0],list_1[1],list_1[-1]])\n",
        "print([list_1, list_1[0:-4], list_1[-3: ]])"
      ],
      "execution_count": 60,
      "outputs": [
        {
          "output_type": "stream",
          "name": "stdout",
          "text": [
            "['NAME', 'AGE', 'YAW']\n",
            "[['NAME', 'AGE', 'SEX', 'KOFI', '222', 'AMA', 'YAW'], ['NAME', 'AGE', 'SEX'], ['222', 'AMA', 'YAW']]\n"
          ]
        }
      ]
    },
    {
      "cell_type": "code",
      "metadata": {
        "id": "UXgrQs89gLJD"
      },
      "source": [
        ""
      ],
      "execution_count": null,
      "outputs": []
    },
    {
      "cell_type": "markdown",
      "metadata": {
        "id": "pqPdr6RNINsf"
      },
      "source": [
        "**MINI CHALLENGE #3:** \n",
        "- **Print NAME**\n",
        "- **Print AGE, NAME, KOFI** \n",
        "- **Print T with two different ways**\n",
        "\n",
        "```\n",
        "my_list = [\"KWAMI\", [\"AGE\", \"NAME\", \"KOFI\"], \"YAW\", \"T\"]\n",
        "```\n"
      ]
    },
    {
      "cell_type": "code",
      "metadata": {
        "id": "VoKm_uJLwkJm",
        "colab": {
          "base_uri": "https://localhost:8080/"
        },
        "outputId": "a7ed8b3a-dbc3-46cf-dd1d-9cc43d28d82c"
      },
      "source": [
        "my_list = [\"KWAME\",[\"AGE\", \"NAME\", \"KOFI\"], \"YAW\", \"T\"]\n",
        "print(my_list[1][1])\n",
        "print(my_list[1])\n",
        "print(my_list[-1])\n",
        "print(my_list[3])"
      ],
      "execution_count": 10,
      "outputs": [
        {
          "output_type": "stream",
          "name": "stdout",
          "text": [
            "NAME\n",
            "['AGE', 'NAME', 'KOFI']\n",
            "T\n",
            "T\n"
          ]
        }
      ]
    },
    {
      "cell_type": "markdown",
      "metadata": {
        "id": "7a2j5iF8CYCU"
      },
      "source": [
        "# 3. DICTIONARY"
      ]
    },
    {
      "cell_type": "markdown",
      "metadata": {
        "id": "9llozT9XLiqI"
      },
      "source": [
        "**MINI CHALLENGE #4:**\n",
        "- **Create a dictionary with 6 of your favourite items and their prices** \n"
      ]
    },
    {
      "cell_type": "code",
      "metadata": {
        "id": "KHOBUBNeKDXr",
        "colab": {
          "base_uri": "https://localhost:8080/"
        },
        "outputId": "7d844187-47bb-4f97-ba7b-5a13a09d8868"
      },
      "source": [
        "my_dictionary = {\"shoes\": \"$122\", \"bag\":\"$100\", \"earring\":\"$10\", \"necklace\":\"$50\", \"watch\":\"$80\",\"wig\":\"$600\"}\n",
        "print(my_dictionary)"
      ],
      "execution_count": 22,
      "outputs": [
        {
          "output_type": "stream",
          "name": "stdout",
          "text": [
            "{'shoes': '$122', 'bag': '$100', 'earring': '$10', 'necklace': '$50', 'watch': '$80', 'wig': '$600'}\n"
          ]
        }
      ]
    },
    {
      "cell_type": "markdown",
      "metadata": {
        "id": "6kLIKQOZ6rNe"
      },
      "source": [
        "# 4. STRINGS"
      ]
    },
    {
      "cell_type": "markdown",
      "metadata": {
        "id": "9cN9W4bkM-vs"
      },
      "source": [
        "**MINI CHALLENGE #5:**\n",
        "- **Write a code that takes an input from a student asking him/her about their feedback regarding the course. The code should split the atudent input into words and print them on screen**\n"
      ]
    },
    {
      "cell_type": "code",
      "metadata": {
        "id": "6C17ix5xpr4p",
        "colab": {
          "base_uri": "https://localhost:8080/"
        },
        "outputId": "81cbfbc9-be8d-497a-d521-dfe814207dd4"
      },
      "source": [
        "message = input(\"what is your feedback regarding the course?:\").split()"
      ],
      "execution_count": 68,
      "outputs": [
        {
          "name": "stdout",
          "output_type": "stream",
          "text": [
            "what is your feedback regarding the course?:explanatory\n"
          ]
        }
      ]
    },
    {
      "cell_type": "markdown",
      "metadata": {
        "id": "EdyxRUooNz5m"
      },
      "source": [
        "**MINI CHALLENGE #6:**\n",
        "- **Write a code that prompts a user requesting his/her e-mail and then extracts the user first name (Note that the e-mail is in firstname.lastname@gmail.com**\n"
      ]
    },
    {
      "cell_type": "code",
      "metadata": {
        "id": "0P41ds4zNrKl"
      },
      "source": [
        "\n"
      ],
      "execution_count": null,
      "outputs": []
    },
    {
      "cell_type": "markdown",
      "metadata": {
        "id": "A0luXBRqEGai"
      },
      "source": [
        "# 5. TUPLES"
      ]
    },
    {
      "cell_type": "markdown",
      "metadata": {
        "id": "RmZ49NcKPKII"
      },
      "source": [
        "**MINI CHALLENGE #7:**\n",
        "- **Define a tuple with your first name, last name, age and the number of friends. Find the length and type as well.**\n"
      ]
    },
    {
      "cell_type": "code",
      "metadata": {
        "id": "xMKjCcejQtJI",
        "colab": {
          "base_uri": "https://localhost:8080/"
        },
        "outputId": "a58e9704-5c72-4536-8801-c8609a06e132"
      },
      "source": [
        "tuple_1 = ('Esther', 'Amponsa',32,4 )\n",
        "print(len(tuple_1))\n",
        "print(type(tuple_1))"
      ],
      "execution_count": 24,
      "outputs": [
        {
          "output_type": "stream",
          "name": "stdout",
          "text": [
            "4\n",
            "<class 'tuple'>\n"
          ]
        }
      ]
    },
    {
      "cell_type": "markdown",
      "metadata": {
        "id": "B7clmiIJEJF0"
      },
      "source": [
        "# 6. SETS "
      ]
    },
    {
      "cell_type": "markdown",
      "metadata": {
        "id": "XjibM376ROGD"
      },
      "source": [
        "**MINI CHALLENGE #8:**\n",
        "- **Remove the duplicates from the following list:**\n",
        "\n",
        "\n",
        "```\n",
        "my_list = ['NAME', 'AGE', 'T','SEX','T','AGE', 5, 6,5]\n",
        "```\n",
        "\n",
        "\n"
      ]
    },
    {
      "cell_type": "code",
      "metadata": {
        "id": "EpKrum8GSOuv",
        "colab": {
          "base_uri": "https://localhost:8080/"
        },
        "outputId": "368f8a48-e6c9-4bbe-b827-6a908abd1e36"
      },
      "source": [
        "my_list = ['NAME', 'AGE','T','SEX','T','AGE',5,6,5]\n",
        "my_list = {'NAME', 'AGE', 'T','SEX','T','AGE',5,6,5}\n",
        "print(my_list)\n"
      ],
      "execution_count": 34,
      "outputs": [
        {
          "output_type": "stream",
          "name": "stdout",
          "text": [
            "{'AGE', 'T', 5, 6, 'NAME', 'SEX'}\n"
          ]
        }
      ]
    },
    {
      "cell_type": "code",
      "metadata": {
        "id": "Lq7SrmfUenG3"
      },
      "source": [
        ""
      ],
      "execution_count": null,
      "outputs": []
    }
  ]
}