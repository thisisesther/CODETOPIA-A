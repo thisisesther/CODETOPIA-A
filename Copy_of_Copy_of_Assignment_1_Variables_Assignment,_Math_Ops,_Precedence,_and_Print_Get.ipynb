{
  "nbformat": 4,
  "nbformat_minor": 0,
  "metadata": {
    "colab": {
      "name": "Copy of Copy of Assignment 1 - Variables Assignment, Math Ops, Precedence, and Print_Get.ipynb",
      "provenance": [],
      "collapsed_sections": [],
      "include_colab_link": true
    },
    "kernelspec": {
      "name": "python3",
      "display_name": "Python 3"
    }
  },
  "cells": [
    {
      "cell_type": "markdown",
      "metadata": {
        "id": "view-in-github",
        "colab_type": "text"
      },
      "source": [
        "<a href=\"https://colab.research.google.com/github/thisisesther/CODETOPIA-A/blob/main/Copy_of_Copy_of_Assignment_1_Variables_Assignment%2C_Math_Ops%2C_Precedence%2C_and_Print_Get.ipynb\" target=\"_parent\"><img src=\"https://colab.research.google.com/assets/colab-badge.svg\" alt=\"Open In Colab\"/></a>"
      ]
    },
    {
      "cell_type": "markdown",
      "metadata": {
        "id": "B1KBXIYhkuw5"
      },
      "source": [
        "# 1. VARIABLES ASSIGNMENT"
      ]
    },
    {
      "cell_type": "markdown",
      "metadata": {
        "id": "75YN6NcVlv50"
      },
      "source": [
        "**MINI CHALLENGE #1:**\n",
        "- **We defined a variable student_id and we assigned these 3 values listed below to it. Without executing any code cells, what will these lines of code generate?**\n",
        "- **Verify your answer by executing the code cells** \n",
        "\n",
        "\n",
        "\n",
        "```\n",
        "student_id = 3324\n",
        "student_id = 3400\n",
        "student_id = 3530\n",
        "student_id\n",
        "```\n"
      ]
    },
    {
      "cell_type": "code",
      "metadata": {
        "id": "AbXq1BsUpcpu",
        "colab": {
          "base_uri": "https://localhost:8080/"
        },
        "outputId": "a4d7ca8c-75ff-42e3-a355-f1dfb5345a1f"
      },
      "source": [
        "student_id = 3324\n",
        "student_id = 3400\n",
        "student_id = 3530\n",
        "student_id"
      ],
      "execution_count": null,
      "outputs": [
        {
          "output_type": "execute_result",
          "data": {
            "text/plain": [
              "3530"
            ]
          },
          "metadata": {},
          "execution_count": 1
        }
      ]
    },
    {
      "cell_type": "markdown",
      "metadata": {
        "id": "m-cJsnjeoFOa"
      },
      "source": [
        "**MINI CHALLENGE #2:**\n",
        "- **We defined a variable codetopia_id and we assigned these 2 values listed below to it. Without executing any code cells, what will these lines of code generate?**\n",
        "- **Verify your answer by executing the code cells** \n",
        "\n",
        "\n",
        "\n",
        "```\n",
        "codetopia_id = 112\n",
        "codetopia_id = 115.3\n",
        "type(codetopia_id)\n",
        "```\n"
      ]
    },
    {
      "cell_type": "code",
      "metadata": {
        "id": "wjaFVDJ2oESl",
        "colab": {
          "base_uri": "https://localhost:8080/"
        },
        "outputId": "d54908a0-0552-473b-c058-32d8d22826c3"
      },
      "source": [
        "codetopia_id = 112\n",
        "codetopia_id = 115.3\n",
        "type(codetopia_id)"
      ],
      "execution_count": null,
      "outputs": [
        {
          "output_type": "execute_result",
          "data": {
            "text/plain": [
              "float"
            ]
          },
          "metadata": {},
          "execution_count": 2
        }
      ]
    },
    {
      "cell_type": "markdown",
      "metadata": {
        "id": "lsCfJJEkkqGQ"
      },
      "source": [
        "# 2. MATH OPERATIONS"
      ]
    },
    {
      "cell_type": "markdown",
      "metadata": {
        "id": "8UaT7FRdNnCQ"
      },
      "source": [
        "**MINI CHALLENGE #3:** \n",
        "- **Write a code that calculates the total amount of money codetopia management spends on tutor fees if the total number of tutors are 23 and each tutor is paid 2500 cedis** \n"
      ]
    },
    {
      "cell_type": "code",
      "metadata": {
        "id": "qMFnXorONnoa",
        "colab": {
          "base_uri": "https://localhost:8080/"
        },
        "outputId": "d12fa01f-fc42-4429-a484-5718a95743c0"
      },
      "source": [
        "number_tutors = 23\n",
        "tutors_salary = 2500\n",
        "total_salary = number_tutors * tutors_salary\n",
        "total_salary\n"
      ],
      "execution_count": 2,
      "outputs": [
        {
          "output_type": "execute_result",
          "data": {
            "text/plain": [
              "57500"
            ]
          },
          "metadata": {},
          "execution_count": 2
        }
      ]
    },
    {
      "cell_type": "markdown",
      "metadata": {
        "id": "iB_6pgJeNnCV"
      },
      "source": [
        "**MINI CHALLENGE #4:**\n",
        "- **Write a code that takes in the amount students paid a day and calculate the total amount of money received after two days:**\n",
        "  - **fees paid on day 1 = 260 cedis** \n",
        "  - **fees paid on day 2 = 280 cedis**"
      ]
    },
    {
      "cell_type": "code",
      "metadata": {
        "id": "eqOkR8Qkrgjr",
        "colab": {
          "base_uri": "https://localhost:8080/"
        },
        "outputId": "8d275274-e646-4023-d1bc-995661323f37"
      },
      "source": [
        "fees_dayone = 260\n",
        "fees_daytwo = 280\n",
        "total_received = fees_dayone + fees_daytwo\n",
        "total_received"
      ],
      "execution_count": 9,
      "outputs": [
        {
          "output_type": "execute_result",
          "data": {
            "text/plain": [
              "540"
            ]
          },
          "metadata": {},
          "execution_count": 9
        }
      ]
    },
    {
      "cell_type": "markdown",
      "metadata": {
        "id": "b_4wxmCklMQE"
      },
      "source": [
        "# 3. ORDER OF OPERATIONS (PRECEDENCE)"
      ]
    },
    {
      "cell_type": "markdown",
      "metadata": {
        "id": "LD0jeVJddRrf"
      },
      "source": [
        "**MINI CHALLENGE #5:**\n",
        "- **Assume that 15 students joined the coding program at a fee of 300 cedis per a student. Codetopia later increased the fee to 500 cedis per a student. Calculate the profit that will be made.**\n",
        "\n",
        "\n",
        "\n",
        "\n"
      ]
    },
    {
      "cell_type": "code",
      "metadata": {
        "id": "ieENt2DUNwDC",
        "colab": {
          "base_uri": "https://localhost:8080/"
        },
        "outputId": "656e4b12-76c2-4d7e-ea36-37647b73d356"
      },
      "source": [
        "student_count = 15\n",
        "initial_fee = 300\n",
        "final_fee = 500\n",
        "profit = student_count * (final_fee - initial_fee)\n",
        "profit"
      ],
      "execution_count": 10,
      "outputs": [
        {
          "output_type": "execute_result",
          "data": {
            "text/plain": [
              "3000"
            ]
          },
          "metadata": {},
          "execution_count": 10
        }
      ]
    },
    {
      "cell_type": "markdown",
      "metadata": {
        "id": "s79S7MtycPGX"
      },
      "source": [
        "**MINI CHALLENGE #6:** \n",
        "- **Write a code that performs the following mathematical operation: z = |x − y| * (x + y)**"
      ]
    },
    {
      "cell_type": "code",
      "metadata": {
        "id": "yGVvKkDKc0LR",
        "colab": {
          "base_uri": "https://localhost:8080/"
        },
        "outputId": "2d6e88dc-5b90-4d65-d16f-6e82e995db6d"
      },
      "source": [
        "x = int(input(\"enter a number?:\"))\n",
        "y = int(input(\"enter a number?:\"))\n",
        "z = abs(x - y)*(x + y)\n",
        "z"
      ],
      "execution_count": 11,
      "outputs": [
        {
          "name": "stdout",
          "output_type": "stream",
          "text": [
            "enter a number?:10\n",
            "enter a number?:20\n"
          ]
        },
        {
          "output_type": "execute_result",
          "data": {
            "text/plain": [
              "300"
            ]
          },
          "metadata": {},
          "execution_count": 11
        }
      ]
    },
    {
      "cell_type": "markdown",
      "metadata": {
        "id": "Jvxd_A696qnl"
      },
      "source": [
        "# 4. PRINT OPERATION"
      ]
    },
    {
      "cell_type": "markdown",
      "metadata": {
        "id": "__Ybj8rmGKpY"
      },
      "source": [
        "**MINI CHALLENGE #7:**\n",
        "- **Write a code that print out the statement below along with your name**\n",
        "- **i.e.: The total number of students at Codetopia are 30. (Barbara)** "
      ]
    },
    {
      "cell_type": "code",
      "metadata": {
        "id": "i6LmOCF6Gd6G",
        "colab": {
          "base_uri": "https://localhost:8080/"
        },
        "outputId": "04ed516a-27f6-455a-dfde-19d30ae84d19"
      },
      "source": [
        "print('The total number of students at Codetopia are 30. (Esther)')"
      ],
      "execution_count": 15,
      "outputs": [
        {
          "output_type": "stream",
          "name": "stdout",
          "text": [
            "The total number of students at Codetopia are 30. (Esther)\n"
          ]
        }
      ]
    },
    {
      "cell_type": "markdown",
      "metadata": {
        "id": "hp9P-qXN-Gll"
      },
      "source": [
        "# 5. GET USER INPUT"
      ]
    },
    {
      "cell_type": "markdown",
      "metadata": {
        "id": "L8v5D4y1CIUQ"
      },
      "source": [
        "**MINI CHALLENGE #8:** \n",
        "- **Write a code that takes in the name of the company, course fee, the number of courses that you want to study and prints out the total funds required to pay for the courses. Find a sample expected output below:**\n",
        "\n",
        "  - Enter the fee for a course you want to study: 3000  \n",
        "  - Enter the number of courses that you want to pay for: 5\n",
        "  - Enter the name of the company that you want to study at: UniDev\n",
        "  - The total funds required to pay for 5 number of Codetopia courses at 3000 is 15000\n"
      ]
    },
    {
      "cell_type": "code",
      "metadata": {
        "id": "j3j5u_H8rxD-",
        "colab": {
          "base_uri": "https://localhost:8080/"
        },
        "outputId": "8caeb1ca-4ba6-4c43-c104-36309363a10e"
      },
      "source": [
        "courses_number = 5\n",
        "company_name = 'UniDev'\n",
        "course_fee = 3000\n",
        "total_funds = 15000\n",
        "message = \"The total funds required to pay for {} number of {} courses at {} is {}\". format(courses_number, company_name, course_fee, total_funds)\n",
        "print(message)\n",
        "\n",
        "\n"
      ],
      "execution_count": 27,
      "outputs": [
        {
          "output_type": "stream",
          "name": "stdout",
          "text": [
            "The total funds required to pay for 5 number of UniDev courses at 3000 is 15000\n"
          ]
        }
      ]
    },
    {
      "cell_type": "markdown",
      "metadata": {
        "id": "Jm-0XhPntGtK"
      },
      "source": [
        "# EXCELLENT JOB"
      ]
    }
  ]
}